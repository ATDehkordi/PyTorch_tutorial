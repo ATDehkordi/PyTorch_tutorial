{
 "cells": [
  {
   "cell_type": "code",
   "execution_count": 2,
   "id": "3b477822",
   "metadata": {},
   "outputs": [
    {
     "name": "stdout",
     "output_type": "stream",
     "text": [
      "torch version:  2.7.1+cu118\n",
      "CUDA available:  True\n",
      "GPU device:  NVIDIA GeForce GTX 960M\n"
     ]
    }
   ],
   "source": [
    "import torch\n",
    "\n",
    "print('torch version: ', torch.__version__)\n",
    "print('CUDA available: ', torch.cuda.is_available())\n",
    "print('GPU device: ', torch.cuda.get_device_name())"
   ]
  },
  {
   "cell_type": "code",
   "execution_count": null,
   "id": "397e7853",
   "metadata": {},
   "outputs": [
    {
     "name": "stdout",
     "output_type": "stream",
     "text": [
      "The code is using:  cuda\n"
     ]
    }
   ],
   "source": [
    "import torch\n",
    "\n",
    "device = torch.device(\"cuda\" if torch.cuda.is_available() else \"cpu\")\n",
    "print(\"The code is using: \", device);"
   ]
  },
  {
   "cell_type": "markdown",
   "id": "1c7a627b",
   "metadata": {},
   "source": [
    "#### Please bare in minf that PyTorch LSTM expects: [batch_size, timesteps, features]\n",
    "#### For the output of the model it is good to have (batch_size, numoftargest) like (100, 1)"
   ]
  },
  {
   "cell_type": "code",
   "execution_count": 8,
   "id": "3d855829",
   "metadata": {},
   "outputs": [
    {
     "name": "stdout",
     "output_type": "stream",
     "text": [
      "✅ All sensor names recognized and mapped successfully.\n"
     ]
    }
   ],
   "source": [
    "import pandas as pd\n",
    "import numpy as np\n",
    "\n",
    "# Read Excel files\n",
    "df_pred = pd.read_excel(\"F:\\PhD Lund\\Github\\Multi-mission altimetry\\Altimetry Results\\winnebago\\Winnebago_combined_predictions.xlsx\")   # columns: DateTime, Predicted_WSE, Sensor\n",
    "df_in_situ = pd.read_excel(\"F:\\PhD Lund\\Github\\Multi-mission altimetry\\Altimetry Results\\winnebago\\Winnebago_combined_in_situ.xlsx\")  # columns: DateTime, In_Situ_WSE\n",
    "\n",
    "# Convert DateTime to datetime format\n",
    "df_pred['DateTime'] = pd.to_datetime(df_pred['DateTime'])\n",
    "df_in_situ['DateTime'] = pd.to_datetime(df_in_situ['DateTime'])\n",
    "\n",
    "# Sanity check: make sure datetimes match\n",
    "assert all(df_pred['DateTime'] == df_in_situ['DateTime']), \"DateTimes do not match!\"\n",
    "\n",
    "df_pred['Year'] = df_pred['DateTime'].dt.year\n",
    "df_pred['DOY'] = df_pred['DateTime'].dt.dayofyear\n",
    "\n",
    "def map_sensor(sensor_name):\n",
    "    if sensor_name.startswith(\"S3A\"):\n",
    "        return 0\n",
    "    elif sensor_name.startswith(\"S3B\"):\n",
    "        return 1\n",
    "    elif sensor_name.startswith(\"S6\"):\n",
    "        return 2\n",
    "    elif sensor_name.startswith(\"SWOT\"):\n",
    "        return 3\n",
    "    else:\n",
    "        return -1  # Unknown sensor\n",
    "\n",
    "df_pred['Sensor_Code'] = df_pred['Sensor'].apply(map_sensor)\n",
    "\n",
    "# Check for any -1 values in Sensor_Code\n",
    "unknown_sensors = df_pred[df_pred['Sensor_Code'] == -1]\n",
    "\n",
    "# Display result\n",
    "if not unknown_sensors.empty:\n",
    "    print(\"⚠️ Unrecognized sensors found:\")\n",
    "    print(unknown_sensors[['DateTime', 'Sensor']])\n",
    "else:\n",
    "    print(\"✅ All sensor names recognized and mapped successfully.\")\n",
    "    \n",
    "# Final NumPy array: [Predicted_WSE, Sensor_Code, Date_Feature, In_Situ_WSE]\n",
    "data_array = np.column_stack([\n",
    "    df_pred['Predicted_WSE'].values,\n",
    "    df_pred['Sensor_Code'].values,\n",
    "    df_pred['Year'].values,\n",
    "    df_pred['DOY'].values,\n",
    "    df_in_situ['In_Situ_WSE'].values\n",
    "])"
   ]
  },
  {
   "cell_type": "code",
   "execution_count": 9,
   "id": "2bbef2e2",
   "metadata": {},
   "outputs": [
    {
     "data": {
      "text/plain": [
       "array([[ 226.80098463,    0.        , 2024.        ,  356.        ,\n",
       "         226.783     ],\n",
       "       [ 226.94314237,    0.        , 2024.        ,  329.        ,\n",
       "         226.939     ],\n",
       "       [ 226.80982806,    0.        , 2024.        ,  302.        ,\n",
       "         226.939     ],\n",
       "       ...,\n",
       "       [ 226.96415756,    3.        , 2023.        ,  281.        ,\n",
       "         226.64      ],\n",
       "       [ 226.74563644,    3.        , 2023.        ,  260.        ,\n",
       "         226.646     ],\n",
       "       [ 227.17276046,    3.        , 2023.        ,  239.        ,\n",
       "         226.987     ]])"
      ]
     },
     "execution_count": 9,
     "metadata": {},
     "output_type": "execute_result"
    }
   ],
   "source": [
    "data_array"
   ]
  },
  {
   "cell_type": "code",
   "execution_count": null,
   "id": "c978e3a7",
   "metadata": {},
   "outputs": [],
   "source": []
  }
 ],
 "metadata": {
  "kernelspec": {
   "display_name": "pytorch",
   "language": "python",
   "name": "python3"
  },
  "language_info": {
   "codemirror_mode": {
    "name": "ipython",
    "version": 3
   },
   "file_extension": ".py",
   "mimetype": "text/x-python",
   "name": "python",
   "nbconvert_exporter": "python",
   "pygments_lexer": "ipython3",
   "version": "3.10.18"
  }
 },
 "nbformat": 4,
 "nbformat_minor": 5
}
